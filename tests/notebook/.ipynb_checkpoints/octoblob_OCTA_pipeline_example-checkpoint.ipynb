{
 "cells": [
  {
   "cell_type": "markdown",
   "metadata": {},
   "source": [
    "# Introduction to OCTA processing code"
   ]
  },
  {
   "cell_type": "markdown",
   "metadata": {},
   "source": [
    "This document contains instructions for interactively running OCTA processing. It is meant to illustrate the architecture of the processing tool chain, the distinction between the OCT/OCTA libraries and processing scripts, and other important (and confusing) issues. In actuality, the OCTA data will be processed using Python scripts (i.e., batch processing), with no interaction with the user.\n",
    "\n",
    "The first step in constructing a script is to import the tools you'll need. ```numpy``` and ```matplotlib``` are the standard numerical and plotting libraries in Python, and are always imported. The ```__future___``` and ```builtins``` imports implement some Python 3 functions, which will make porting this to Python 3 easier.\n",
    "\n",
    "```octoblob``` is the unfortunate name I've chosen for the OCT/OCTA processing libraries. It is a descendent of the now obsolete ```octopod``` and ```cuttlefish``` libraries we've used in the past. We could have imported all the classes and functions from octoblob with ```from octoblob import *```, but it's better practice to keep the module name around, so that when module functions are called (e.g. ```bscan = blob.make_bscan(data)```), it's clear that the function is coming from the octoblob package, and clear where one needs to go to find the definition of the function. "
   ]
  },
  {
   "cell_type": "code",
   "execution_count": 1,
   "metadata": {},
   "outputs": [],
   "source": [
    "from __future__ import (absolute_import, division,\n",
    "                        print_function, unicode_literals)\n",
    "from builtins import *\n",
    "import numpy as np\n",
    "from matplotlib import pyplot as plt\n",
    "import octoblob as blob"
   ]
  },
  {
   "cell_type": "markdown",
   "metadata": {},
   "source": [
    "## Some architectural principles\n",
    "\n",
    "1. One reasonable way to think about scientific software is to split it into two categories: **libraries** and **scripts**. Libraries are collections of functions (and *classes*--more on that later) where each function and class has a well-defined goal, and the implementations have been extensively tested or otherwise verified to be correct. We *really* don't want any errors in a library. Scripts are the day-to-day programs we run. Some are batch scripts that process lots of data autonomously, and others are exploratory, where we run them to see what the data looks like, often in order to help us design the next step in the processing pipeline. Sometimes a portion of a script becomes used so frequently that it makes sense to turn it into a library functions and thus simplify the script.\n",
    "\n",
    "2. Specifically with regard to the OCT/OCTA processing pipeline, I believe the libraries should be split into two parts: 1) a library for reading raw data and getting it organized, and 2) a library for turning raw data into OCT/OCTA images. The first of these is handled by a *class*, and the second is handled by a set of *functions*.\n",
    "\n",
    "3. **Classes**. If you're not familiar with object-oriented programming, all you need to know about a class is that it is a specification for an *object*, i.e. a list of functions and variables that are stored together and somehow insulated from the rest of the code. The raw OCT data is handled by a class, because it needs to keep track of lots of information about the data. We create an ```OCTRawData``` class, and it keeps track of how many bytes there are per pixel, how many pixels per spectrum, how many spectra per B-scan, etc. By implementing this with a class, we don't have to specify how to get the raw data every time we need a new frame. We just instantiate the object and then ask it for frames, which will be illustrated below."
   ]
  },
  {
   "cell_type": "markdown",
   "metadata": {},
   "source": [
    "## Parameters for the ```OCTRawData``` class\n",
    "\n",
    "The ```OCTRawData``` class needs to know how to get a frame out of the file, and to do that it needs a bunch of parameters. Let's specify these first. They should be self-explanatory, but trailing comments may clarify in some cases."
   ]
  },
  {
   "cell_type": "code",
   "execution_count": 2,
   "metadata": {},
   "outputs": [],
   "source": [
    "# PARAMETERS FOR RAW DATA SOURCE\n",
    "filename = '../octa_test_set.unp' # name of the raw data file\n",
    "n_vol = 1 # number of volumes\n",
    "n_slow = 4 # number of B-scans in each volume\n",
    "n_repeats = 5 # number of repeats for OCTA data\n",
    "n_fast = 2500 # number of A-scans per B-scan x number of repeats\n",
    "n_skip = 500 # number of A-scans to skip at the start\n",
    "n_depth = 1536 # number of pixels per spectrum\n",
    "bit_shift_right = 4 # ignore for now\n",
    "dtype=np.uint16 # the data type of the raw data\n",
    "\n",
    "fbg_position = 148 # if there is an FBG, approximately where is it located\n",
    "spectrum_start = 159 # where does the spectral data start (i.e. after FBG)\n",
    "spectrum_end = 1459 # where does the spectral data end (i.e., before any dead/dark time at the end)"
   ]
  },
  {
   "cell_type": "markdown",
   "metadata": {},
   "source": [
    "Now we can instantiate the ```OCTRawData``` object, which will later be used to get frames."
   ]
  },
  {
   "cell_type": "code",
   "execution_count": 3,
   "metadata": {},
   "outputs": [
    {
     "ename": "OSError",
     "evalue": "[Errno 2] No such file or directory: './octa_test_set.unp'",
     "output_type": "error",
     "traceback": [
      "\u001b[0;31m---------------------------------------------------------------------------\u001b[0m",
      "\u001b[0;31mOSError\u001b[0m                                   Traceback (most recent call last)",
      "\u001b[0;32m<ipython-input-3-a1aac5e1880a>\u001b[0m in \u001b[0;36m<module>\u001b[0;34m()\u001b[0m\n\u001b[1;32m      3\u001b[0m                       \u001b[0mspectrum_start\u001b[0m\u001b[0;34m=\u001b[0m\u001b[0mspectrum_start\u001b[0m\u001b[0;34m,\u001b[0m\u001b[0mspectrum_end\u001b[0m\u001b[0;34m=\u001b[0m\u001b[0mspectrum_end\u001b[0m\u001b[0;34m,\u001b[0m\u001b[0;34m\u001b[0m\u001b[0m\n\u001b[1;32m      4\u001b[0m                       \u001b[0mbit_shift_right\u001b[0m\u001b[0;34m=\u001b[0m\u001b[0mbit_shift_right\u001b[0m\u001b[0;34m,\u001b[0m\u001b[0;34m\u001b[0m\u001b[0m\n\u001b[0;32m----> 5\u001b[0;31m                       n_skip=n_skip,dtype=dtype)\n\u001b[0m",
      "\u001b[0;32m/home/rjonnal/code/octoblob/__init__.pyc\u001b[0m in \u001b[0;36m__init__\u001b[0;34m(self, filename, n_vol, n_slow, n_fast, n_depth, n_repeats, dtype, dc_crop, fbg_position, spectrum_start, spectrum_end, bit_shift_right, n_skip)\u001b[0m\n\u001b[1;32m     41\u001b[0m             \u001b[0mself\u001b[0m\u001b[0;34m.\u001b[0m\u001b[0mspectrum_end\u001b[0m \u001b[0;34m=\u001b[0m \u001b[0mspectrum_end\u001b[0m\u001b[0;34m\u001b[0m\u001b[0m\n\u001b[1;32m     42\u001b[0m \u001b[0;34m\u001b[0m\u001b[0m\n\u001b[0;32m---> 43\u001b[0;31m         \u001b[0mfile_size\u001b[0m \u001b[0;34m=\u001b[0m \u001b[0mos\u001b[0m\u001b[0;34m.\u001b[0m\u001b[0mstat\u001b[0m\u001b[0;34m(\u001b[0m\u001b[0mself\u001b[0m\u001b[0;34m.\u001b[0m\u001b[0mfilename\u001b[0m\u001b[0;34m)\u001b[0m\u001b[0;34m.\u001b[0m\u001b[0mst_size\u001b[0m\u001b[0;34m\u001b[0m\u001b[0m\n\u001b[0m\u001b[1;32m     44\u001b[0m         \u001b[0mskip_bytes\u001b[0m \u001b[0;34m=\u001b[0m \u001b[0mself\u001b[0m\u001b[0;34m.\u001b[0m\u001b[0mn_skip\u001b[0m\u001b[0;34m*\u001b[0m\u001b[0mself\u001b[0m\u001b[0;34m.\u001b[0m\u001b[0mn_depth\u001b[0m\u001b[0;34m*\u001b[0m\u001b[0mself\u001b[0m\u001b[0;34m.\u001b[0m\u001b[0mbytes_per_pixel\u001b[0m\u001b[0;34m\u001b[0m\u001b[0m\n\u001b[1;32m     45\u001b[0m \u001b[0;34m\u001b[0m\u001b[0m\n",
      "\u001b[0;31mOSError\u001b[0m: [Errno 2] No such file or directory: './octa_test_set.unp'"
     ]
    }
   ],
   "source": [
    "src = blob.OCTRawData(filename,n_vol,n_slow,n_fast,n_depth,n_repeats,\n",
    "                      fbg_position=fbg_position,\n",
    "                      spectrum_start=spectrum_start,spectrum_end=spectrum_end,\n",
    "                      bit_shift_right=bit_shift_right,\n",
    "                      n_skip=n_skip,dtype=dtype)"
   ]
  },
  {
   "cell_type": "markdown",
   "metadata": {},
   "source": [
    "The \"File size incorrect\" warning is just telling us that there are more bytes in the file than we need. This is because using Yifan's software and the Axsun source, there's no synchronization between the slow scanner and the data acquisition, such that the first set of N repeats can begin on any of the first N frames."
   ]
  },
  {
   "cell_type": "markdown",
   "metadata": {},
   "source": [
    "## Parameters for OCT/OCTA processing\n",
    "\n",
    "In addition to the raw data parameters, the code needs to know how to process the OCT data. These parameters are of greater interest to OCT scientists, and are subject to continual revision and refinement."
   ]
  },
  {
   "cell_type": "code",
   "execution_count": null,
   "metadata": {},
   "outputs": [],
   "source": [
    "# PROCESSING PARAMETERS\n",
    "mapping_coefficients = [12.5e-10,-12.5e-7,0.0,0.0]\n",
    "dispersion_coefficients = [0.0,1.5e-6,0.0,0.0]\n",
    "\n",
    "fft_oversampling_size = 4096\n",
    "\n",
    "# Cropping parameters:\n",
    "bscan_z1 = 3147\n",
    "bscan_z2 = -40 # negative indices are relative to the end of the array\n",
    "bscan_x1 = 0\n",
    "bscan_x2 = -100 # negative indices are relative to the end of the array"
   ]
  },
  {
   "cell_type": "markdown",
   "metadata": {},
   "source": [
    "## Pulling and processing an OCTA frame\n",
    "\n",
    "Let's say we want to process one OCTA frame, using the OCTRawData object ```src``` defined above.\n",
    "\n",
    "First, we need to get the raw spectra. Let's adopt the convention of calling these **frames**. A frame has dimensions ```n_k * n_x```, where ```n_k``` is the number of points in the k-dimension (the vertical/first dimension, by convention) and ```n_x``` is the number of points in the fast scan dimension, including repeats. Our B-scans are 500 pixels wide, and we have 5 repeats, so a single frame will contain 2500 A-scans. Remember that Python, like every sane programming language, begins indices with 0, not 1. We'll get the first frame and see what it looks like."
   ]
  },
  {
   "cell_type": "code",
   "execution_count": null,
   "metadata": {},
   "outputs": [],
   "source": [
    "frame = src.get_frame(0)\n",
    "plt.figure(dpi=150)\n",
    "plt.imshow(frame,aspect='auto')\n",
    "plt.colorbar()\n",
    "plt.show()"
   ]
  },
  {
   "cell_type": "markdown",
   "metadata": {},
   "source": [
    "## OCT processing pipeline\n",
    "\n",
    "The next steps in the process are 1) DC-subtraction, 2) k-resampling, 3) dispersion compensation, 4) windowing, and 5) FFTing (and oversampling) the spectra into a B-scan. These are illustrated next."
   ]
  },
  {
   "cell_type": "code",
   "execution_count": null,
   "metadata": {},
   "outputs": [],
   "source": [
    "frame = blob.dc_subtract(frame)\n",
    "plt.figure(dpi=150)\n",
    "plt.imshow(frame,aspect='auto')\n",
    "plt.colorbar()\n",
    "plt.show()"
   ]
  },
  {
   "cell_type": "code",
   "execution_count": null,
   "metadata": {},
   "outputs": [],
   "source": [
    "frame = blob.k_resample(frame,mapping_coefficients)\n",
    "plt.figure(dpi=150)\n",
    "plt.imshow(frame,aspect='auto')\n",
    "plt.colorbar()\n",
    "plt.show()"
   ]
  },
  {
   "cell_type": "code",
   "execution_count": null,
   "metadata": {},
   "outputs": [],
   "source": [
    "frame = blob.dispersion_compensate(frame,dispersion_coefficients)\n",
    "plt.figure(dpi=150)\n",
    "plt.imshow(np.abs(frame),aspect='auto') # need 'abs' because dispersion compensation introduces imaginary component\n",
    "plt.colorbar()\n",
    "plt.show()"
   ]
  },
  {
   "cell_type": "code",
   "execution_count": null,
   "metadata": {},
   "outputs": [],
   "source": [
    "frame = blob.gaussian_window(frame,0.9)\n",
    "plt.figure(dpi=150)\n",
    "plt.imshow(np.abs(frame),aspect='auto') # need 'abs' because dispersion compensation introduces imaginary component\n",
    "plt.colorbar()\n",
    "plt.show()"
   ]
  },
  {
   "cell_type": "markdown",
   "metadata": {},
   "source": [
    "### Let's have a look at the Gaussian window, just for fun, by running it on a vector of ones"
   ]
  },
  {
   "cell_type": "code",
   "execution_count": null,
   "metadata": {},
   "outputs": [],
   "source": [
    "window_shape = blob.gaussian_window(np.ones(frame.shape[0]),0.9)\n",
    "plt.figure(dpi=150)\n",
    "plt.plot(window_shape)\n",
    "plt.show()"
   ]
  },
  {
   "cell_type": "markdown",
   "metadata": {},
   "source": [
    "### Now we generate a B-scan from the spectra"
   ]
  },
  {
   "cell_type": "code",
   "execution_count": null,
   "metadata": {},
   "outputs": [],
   "source": [
    "bscan = blob.spectra_to_bscan(frame,oversampled_size=fft_oversampling_size,z1=bscan_z1,z2=bscan_z2)\n",
    "dB_bscan = 20*np.log10(np.abs(bscan))\n",
    "# define rough contrast lims--if our sensitivity is 90 dB and our dynamic range is 45 dB, then (45,90) will work.\n",
    "clim = (45,90)\n",
    "plt.figure(dpi=150)\n",
    "plt.imshow(dB_bscan,clim=(45,90),aspect='auto') # need 'abs' because dispersion compensation introduces imaginary component\n",
    "plt.colorbar()\n",
    "plt.show()"
   ]
  },
  {
   "cell_type": "markdown",
   "metadata": {},
   "source": [
    "### Now we have to reshape the compound B-scan into a stack of 5 (n_repeats) individual B-scans\n",
    "\n",
    "We'll check the shape of the stack (3D array), and then we'll visualize the first one in the stack, as sanity checks."
   ]
  },
  {
   "cell_type": "code",
   "execution_count": null,
   "metadata": {},
   "outputs": [],
   "source": [
    "stack_complex = blob.reshape_repeats(bscan,n_repeats,x1=bscan_x1,x2=bscan_x2)\n",
    "print(stack_complex.shape)\n",
    "# remember that the original array bscan was complex; we used abs and log10 to visualize it before\n",
    "dB_first_bscan = 20*np.log10(np.abs(stack_complex[:,:,0]))\n",
    "# define rough contrast lims--if our sensitivity is 90 dB and our dynamic range is 45 dB, then (45,90) will work.\n",
    "plt.figure(dpi=150)\n",
    "plt.imshow(dB_first_bscan,clim=(45,90),aspect='auto') # need 'abs' because dispersion compensation introduces imaginary component\n",
    "plt.colorbar()\n",
    "plt.show()"
   ]
  },
  {
   "cell_type": "markdown",
   "metadata": {},
   "source": [
    "### Lastly, we'll convert this stack of complex repeats into an angiogram"
   ]
  },
  {
   "cell_type": "code",
   "execution_count": null,
   "metadata": {},
   "outputs": [],
   "source": [
    "phase_variance = blob.make_angiogram(stack_complex)\n",
    "plt.figure(dpi=150)\n",
    "plt.imshow(phase_variance,clim=(0,0.2*np.pi),aspect='auto') # need 'abs' because dispersion compensation introduces imaginary component\n",
    "plt.colorbar()\n",
    "plt.show()"
   ]
  },
  {
   "cell_type": "markdown",
   "metadata": {},
   "source": [
    "### The OCTA processing functions\n",
    "\n",
    "Obviously a lot of the work is buried in the OCTA processing functions, and we'll eventually document all of those clearly as well. Here, for example, is the dispersion compensation function:"
   ]
  },
  {
   "cell_type": "code",
   "execution_count": null,
   "metadata": {},
   "outputs": [],
   "source": [
    "def dispersion_compensate(spectra,coefficients=[0.0,1.5e-6,0.0,0.0]):\n",
    "    # x_in specified on 1..N+1 to accord w/ Justin's code\n",
    "    # fix this later, ideally as part of a greater effort\n",
    "    # to define our meshes for mapping and dispersion compensation\n",
    "    # on k instead of integer index\n",
    "    x = np.arange(1,spectra.shape[0]+1)\n",
    "    dechirping_phasor = np.exp(-1j*np.polyval(coefficients,x))\n",
    "    return (spectra.T*dechirping_phasor).T\n"
   ]
  },
  {
   "cell_type": "code",
   "execution_count": null,
   "metadata": {},
   "outputs": [],
   "source": []
  }
 ],
 "metadata": {
  "kernelspec": {
   "display_name": "Python 2",
   "language": "python",
   "name": "python2"
  },
  "language_info": {
   "codemirror_mode": {
    "name": "ipython",
    "version": 2
   },
   "file_extension": ".py",
   "mimetype": "text/x-python",
   "name": "python",
   "nbconvert_exporter": "python",
   "pygments_lexer": "ipython2",
   "version": "2.7.16"
  }
 },
 "nbformat": 4,
 "nbformat_minor": 2
}
