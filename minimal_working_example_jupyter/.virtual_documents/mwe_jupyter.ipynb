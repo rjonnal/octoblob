





# standard imports:
import numpy as np
from matplotlib import pyplot as plt

# we want to read data into the numpy datatype uint16
dtype = np.uint16

volume_index = 0
frame_index = 0
bytes_per_pixel = 2
n_depth = 1536
n_fast = 250
n_slow = 400

# Let's define a function to make pulling individual frames from the UNP file easy.
# We'll require a filename, a frame index, and a volume index. The volume index hasn't
# been relevant for ORG imaging since we aren't collecting multiple volumes, and the
# UNP files contain just one "volume", which actually consists of serial B-scans; thus
# we provide a default volume index of 0.
def get_frame(filename,frame_index,volume_index=0):

    # Calculate the entry point into the file:
    pixels_per_frame = n_depth * n_fast
    pixels_per_volume = pixels_per_frame * n_slow
    bytes_per_volume = pixels_per_volume * bytes_per_pixel
    bytes_per_frame = pixels_per_frame * bytes_per_pixel
    position = volume_index * bytes_per_volume + frame_index * bytes_per_frame
    
    # Use python open and seek commands in conjuction with numpy's fromfile command to read the frame:
    with open(filename,'rb') as fid:
        fid.seek(position,0)
        frame = np.fromfile(fid,dtype=dtype,count=pixels_per_frame)
    
    # For whatever reason the raw data are left shifted by 4 bits (i.e., they occupy the first 12 of 16 bits rather than the last 12, i.e. they are all 16x too large).
    bit_shift_right = 4
    frame = np.right_shift(frame,bit_shift_right)
    
    # Now we need to reshape the one-dimensional result of fromfile into a 2D array
    frame = np.reshape(frame,(n_fast,n_depth))
    
    # By convention we always put k or depth in the first dimension, so let's transpose:
    frame = frame.T

    return frame

# get the zeroth frame:
filename = '16_24_48.unp'
frame = get_frame(filename,0)
# Now show the frame:
plt.imshow(frame,aspect='auto')
plt.show()






plt.figure()
plt.imshow(frame,interpolation='none',aspect='auto')
plt.ylim((70,110))
plt.title('FBG not aligned')
plt.show()






# a function for aligning the spectra to the FBG trough
def fbg_align(spectra,fbg_max_index=150,fbg_region_correlation_threshold = 0.9):
    # crop the frame to the FBG region
    f = spectra[:fbg_max_index,:].copy()

    # group the spectra by amount of shift
    # this step avoids having to perform cross-correlation operations on every
    # spectrum; first, we group them by correlation with one another
    # make a list of spectra to group
    to_do = list(range(f.shape[1]))
    # make a list for the groups of similarly shifted spectra
    groups = []
    ref = 0

    # while there are spectra left to group, do the following loop:
    while(True):
        groups.append([ref])
        to_do.remove(ref)
        for tar in to_do:
            c = np.corrcoef(f[:,ref],f[:,tar])[0,1]
            if c>fbg_region_correlation_threshold:
                groups[-1].append(tar)
                to_do.remove(tar)
        if len(to_do)==0:
            break
        ref = to_do[0]

    subframes = []
    for g in groups:
        subf = f[:,g]
        subframes.append(subf)

    # now decide how to shift the groups of spectra by cross-correlating their means
    # we'll use the first group as the reference group:
    group_shifts = [0]
    ref = np.mean(subframes[0],axis=1)
    # now, iterate through the other groups, compute their means, and cross-correlate
    # with the reference. keep track of the cross-correlation peaks in the list group_shifts
    for taridx in range(1,len(subframes)):
        tar = np.mean(subframes[taridx],axis=1)
        xc = np.fft.ifft(np.fft.fft(ref)*np.fft.fft(tar).conj())
        shift = np.argmax(xc)
        if shift>len(xc)//2:
            shift = shift-len(xc)
        group_shifts.append(shift)

    # now, use the groups and the group_shifts to shift all of the spectra according to their
    # group membership:
    for g,s in zip(groups,group_shifts):
        for idx in g:
            spectra[:,idx] = np.roll(spectra[:,idx],s)
            f[:,idx] = np.roll(f[:,idx],s)

    return spectra

# make a copy of the unaligned frame for reference
# do this by making a new array, i.e. this:
# unaligned = frame
# will not work since both variables unaligned and frame refer to the same array
unaligned = np.zeros(frame.shape)
unaligned[:] = frame[:]

frame = fbg_align(frame)
plt.figure(figsize=(10,4))
plt.subplot(1,2,1)
plt.imshow(unaligned,aspect='auto',interpolation='none')
plt.title('unaligned')
plt.ylim((70,110))
plt.subplot(1,2,2)
plt.imshow(frame,aspect='auto',interpolation='none')
plt.title('FBG aligned')
plt.ylim((70,110))
plt.show()






# average the spectra and plot the resulting DC estimate
DC = np.mean(frame,axis=1)
plt.plot(DC)
plt.show()





# Plot the single-frame DC estimate along with one of the spectra, offset for visibility
plt.figure()
plt.subplot(1,2,1)
plt.plot(DC)
plt.plot(frame[:,100]+200)
# Plot a 20-frame DC estimate along with one of the spectra:
frames_20 = [get_frame(filename,k) for k in range(20)] # use a list comprehension to make a list of 20 frames
frames_20 = np.hstack(frames_20) # turn the list of 20 frames into a large frame of size 1536 x 5000 by concatenation
DC_20 = np.mean(frames_20,axis=1)
plt.subplot(1,2,2)
plt.plot(DC_20)
plt.plot(frame[:,100]+200)
plt.show()





# Plot the single-frame DC and 20-frame DC together, zoomed in on a small region:
plt.plot(DC[450:550],label='1-frame DC')
plt.plot(DC_20[450:550],label='20-frame DC')
plt.legend()
plt.show()








# DC-subtract through array broadcasting with required transpose

# We can't do this:
# frame = frame - DC
# because the trailing dimensions of frame and DC disagree.
# Instead, transpose, subtract, and transpose back:
plt.figure(figsize=(10,4))
plt.subplot(1,2,1)
plt.imshow(frame,aspect='auto')
plt.colorbar()

frame = (frame.T - DC).T

plt.subplot(1,2,2)
plt.imshow(frame,aspect='auto')
plt.colorbar()
plt.show()





def crop_spectra(spectra):
    k_crop_1 = 100
    k_crop_2 = 1490
    return spectra[k_crop_1:k_crop_2,:]

plt.figure(figsize=(10,4))
plt.subplot(1,2,1)
plt.imshow(frame,aspect='auto')
plt.title('before cropping')

frame = crop_spectra(frame)

plt.subplot(1,2,2)
plt.imshow(frame,aspect='auto')
plt.title('after cropping')





def dB(x):
    return 20*np.log10(x)

def dispersion_compensate(spectra,coefficients):
    # If all coefficients are 0, return the spectra w/o further computation:
    if not any(coefficients):
        return spectra

    # the coefficients passed into this function are just the 3rd and 2nd order ones; we
    # add zeros so that we can use convenience functions like np.polyval that handle the
    # algebra; the input coefficients are [dc3,dc2], either a list or numpy array;
    # cast as a list to be on the safe side.
    coefs = list(coefficients) + [0.0,0.0]

    # now coefs is a 4-item list: [dc3,dc2,0.0,0.0]
    
    # define index x:
    x = np.arange(1,spectra.shape[0]+1)

    # if we want to avoid using polyval, we can explicitly evaluate the polynomial:
    # evaluate our polynomial on index x; if we do it this way, we need not append
    # zeroes to coefs above
    # phase_polynomial = coefs[0]*x**3 + coefs[1]*x**2

    # actually it's simpler to use polyval, which is why we appended the zeros to
    # the input coefficients--polyval infers the order of the polynomial from the
    # number of values in the list/array:
    phase_polynomial = np.polyval(coefs,x)
    
    # define the phasor and multiply by spectra using broadcasting:
    dechirping_phasor = np.exp(-1j*phase_polynomial)

    # A topic for future discussion is whether or not to include the next line;
    # for the time being it does not appear to make much of a difference, but
    # in theory I think it should be there.
    #spectra = spectra + 1j*sps.hilbert(spectra,axis=0)
    dechirped = (spectra.T*dechirping_phasor).T
    return dechirped


plt.figure(figsize=(10,4))
plt.subplot(1,2,1)
plt.imshow(dB(np.abs(np.fft.fft(frame,axis=0))),cmap='gray',aspect='auto',clim=(45,90))
plt.ylim((1300,1100))
frame = dispersion_compensate(frame,[-1.4e-8,-4.6e-6])
plt.subplot(1,2,2)
plt.imshow(dB(np.abs(np.fft.fft(frame,axis=0))),cmap='gray',aspect='auto',clim=(45,90))
plt.ylim((1300,1100))
plt.show()





